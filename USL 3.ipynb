{
 "cells": [
  {
   "cell_type": "markdown",
   "metadata": {},
   "source": [
    "<table align=\"center\" width=100%>\n",
    "    <tr>\n",
    "        <td width=\"15%\">\n",
    "            <img src=\"in_class.png\">\n",
    "        </td>\n",
    "        <td>\n",
    "            <div align=\"center\">\n",
    "                <font color=\"#21618C\" size=8px>\n",
    "                    <b> Inclass - Lab <br>(Day 3)\n",
    "                    </b>\n",
    "                </font>\n",
    "            </div>\n",
    "        </td>\n",
    "    </tr>\n",
    "</table>"
   ]
  },
  {
   "cell_type": "markdown",
   "metadata": {},
   "source": [
    "### About the dataset (Rain prediction data)\n",
    "\n",
    "The dataset consists of various factors like temperature, humidity, a wind speed that are important in predicting the rainfall in the Indian subcontinent. \n",
    "\n",
    "**Temperature_min**: Minimum temperature for the day\n",
    "\n",
    "**Temperature_max**: Maximum temperature for the day\n",
    "\n",
    "**WindSpeedAt3am**: Today's speed of the wind at 3 am \n",
    "\n",
    "**WindSpeedAt10am**: Today's speed of the wind at 10 am\n",
    "\n",
    "**WindSpeedAt6pm**: Today's speed of the wind at 6 pm \n",
    "\n",
    "**HumidityLevelAt10am**: Today's humidity level at 10 am\n",
    "\n",
    "**HumidityAt6pm**: Today's humidity level at 6 pm\n",
    "\n",
    "**PressureAt10am**: Today's atmospheric pressure at 10 am\n",
    "\n",
    "**PressureAt6pm**: Today's atmospheric pressure at 6 pm\n",
    "\n",
    "**TemperatureAt10am**: Today's temperature at 10 am\n",
    "\n",
    "**TemperatureAt6pm**: Today's temperature at 6 pm\n",
    "\n",
    "**WillRainTomorrow?**: Will there be rain tomorrow? (Yes or No) (target/dependent variable)\n",
    "\n",
    "Use different dimension reduction techniques to transform the dataset into the lower dimension."
   ]
  },
  {
   "cell_type": "markdown",
   "metadata": {},
   "source": [
    "## Table of Content\n",
    "\n",
    "1. **[Exploratory Data Analysis](#eda)**\n",
    "2. **[Principal Component Analysis (PCA)](#pca)**\n",
    "3. **[Linear Discriminant Analysis (LDA)](#lda)**"
   ]
  },
  {
   "cell_type": "markdown",
   "metadata": {},
   "source": [
    "**Import the required libraries**"
   ]
  },
  {
   "cell_type": "code",
   "execution_count": 2,
   "metadata": {},
   "outputs": [],
   "source": [
    "# write your code # suppress display of warnings\n",
    "import warnings\n",
    "warnings.filterwarnings(\"ignore\", category=DeprecationWarning)\n",
    "warnings.filterwarnings(\"ignore\", category=FutureWarning)\n",
    "\n",
    "# 'Pandas' is used for data manipulation and analysis\n",
    "import pandas as pd \n",
    "\n",
    "# 'Numpy' is used for mathematical operations on large, multi-dimensional arrays and matrices\n",
    "import numpy as np\n",
    "\n",
    "# 'Matplotlib' is a data visualization library for 2D and 3D plots, built on numpy\n",
    "import matplotlib.pyplot as plt\n",
    "\n",
    "# train test split\n",
    "from sklearn.model_selection import train_test_split\n",
    "\n",
    "# 'StandardScalar' from sklearn.preprocessing library is used to scale the data\n",
    "from sklearn.preprocessing import StandardScaler\n",
    "\n",
    "# 'eig' from numpy.linalg to calculate eigenvalues and eigenvectors\n",
    "from numpy.linalg import eig\n",
    "\n",
    "# 'PCA' function to perform principal component analysis using the sklearn library\n",
    "from sklearn.decomposition import PCA\n",
    "\n",
    "# 'LDA' function to perform linear discriminant analysis using the sklearn library\n",
    "from sklearn.discriminant_analysis import LinearDiscriminantAnalysis as LDA\n",
    "\n",
    "# import decision tree classifier from sklearn\n",
    "from sklearn.tree import DecisionTreeClassifier\n",
    "from sklearn.metrics import accuracy_score, roc_auc_score"
   ]
  },
  {
   "cell_type": "code",
   "execution_count": 3,
   "metadata": {},
   "outputs": [],
   "source": [
    "\n",
    "\n",
    "# set the plot size using 'rcParams'\n",
    "# once the plot size is set using 'rcParams', it sets the size of all the forthcoming plots in the file\n",
    "# pass width and height in inches to 'figure.figsize' \n",
    "plt.rcParams['figure.figsize'] = [15,8]"
   ]
  },
  {
   "cell_type": "markdown",
   "metadata": {},
   "source": [
    "#### Load the csv file"
   ]
  },
  {
   "cell_type": "code",
   "execution_count": 4,
   "metadata": {},
   "outputs": [
    {
     "data": {
      "text/html": [
       "<div>\n",
       "<style scoped>\n",
       "    .dataframe tbody tr th:only-of-type {\n",
       "        vertical-align: middle;\n",
       "    }\n",
       "\n",
       "    .dataframe tbody tr th {\n",
       "        vertical-align: top;\n",
       "    }\n",
       "\n",
       "    .dataframe thead th {\n",
       "        text-align: right;\n",
       "    }\n",
       "</style>\n",
       "<table border=\"1\" class=\"dataframe\">\n",
       "  <thead>\n",
       "    <tr style=\"text-align: right;\">\n",
       "      <th></th>\n",
       "      <th>Temperature_min</th>\n",
       "      <th>Temperature_max</th>\n",
       "      <th>WindSpeedAt3am</th>\n",
       "      <th>WindSpeedAt10am</th>\n",
       "      <th>WindSpeedAt6pm</th>\n",
       "      <th>HumidityLevelAt10am</th>\n",
       "      <th>HumidityAt6pm</th>\n",
       "      <th>PressureAt10am</th>\n",
       "      <th>PressureAt6pm</th>\n",
       "      <th>TemperatureAt10am</th>\n",
       "      <th>TemperatureAt6pm</th>\n",
       "      <th>WillRainTomorrow?</th>\n",
       "    </tr>\n",
       "  </thead>\n",
       "  <tbody>\n",
       "    <tr>\n",
       "      <th>0</th>\n",
       "      <td>20.3</td>\n",
       "      <td>30.7</td>\n",
       "      <td>32</td>\n",
       "      <td>6</td>\n",
       "      <td>17</td>\n",
       "      <td>110</td>\n",
       "      <td>72</td>\n",
       "      <td>1025.2</td>\n",
       "      <td>1015.4</td>\n",
       "      <td>26.6</td>\n",
       "      <td>40.4</td>\n",
       "      <td>No</td>\n",
       "    </tr>\n",
       "    <tr>\n",
       "      <th>1</th>\n",
       "      <td>30.0</td>\n",
       "      <td>33.3</td>\n",
       "      <td>33</td>\n",
       "      <td>10</td>\n",
       "      <td>20</td>\n",
       "      <td>70</td>\n",
       "      <td>35</td>\n",
       "      <td>1032.6</td>\n",
       "      <td>1035.4</td>\n",
       "      <td>26.6</td>\n",
       "      <td>39.3</td>\n",
       "      <td>No</td>\n",
       "    </tr>\n",
       "    <tr>\n",
       "      <th>2</th>\n",
       "      <td>23.5</td>\n",
       "      <td>26.9</td>\n",
       "      <td>24</td>\n",
       "      <td>14</td>\n",
       "      <td>20</td>\n",
       "      <td>98</td>\n",
       "      <td>63</td>\n",
       "      <td>1025.5</td>\n",
       "      <td>1026.0</td>\n",
       "      <td>29.8</td>\n",
       "      <td>34.6</td>\n",
       "      <td>Yes</td>\n",
       "    </tr>\n",
       "    <tr>\n",
       "      <th>3</th>\n",
       "      <td>25.5</td>\n",
       "      <td>26.9</td>\n",
       "      <td>45</td>\n",
       "      <td>20</td>\n",
       "      <td>30</td>\n",
       "      <td>82</td>\n",
       "      <td>59</td>\n",
       "      <td>1019.3</td>\n",
       "      <td>1016.9</td>\n",
       "      <td>24.2</td>\n",
       "      <td>30.8</td>\n",
       "      <td>No</td>\n",
       "    </tr>\n",
       "    <tr>\n",
       "      <th>4</th>\n",
       "      <td>33.5</td>\n",
       "      <td>39.3</td>\n",
       "      <td>33</td>\n",
       "      <td>4</td>\n",
       "      <td>12</td>\n",
       "      <td>94</td>\n",
       "      <td>49</td>\n",
       "      <td>1027.3</td>\n",
       "      <td>1022.2</td>\n",
       "      <td>33.6</td>\n",
       "      <td>43.6</td>\n",
       "      <td>No</td>\n",
       "    </tr>\n",
       "  </tbody>\n",
       "</table>\n",
       "</div>"
      ],
      "text/plain": [
       "   Temperature_min  Temperature_max  WindSpeedAt3am  WindSpeedAt10am  \\\n",
       "0             20.3             30.7              32                6   \n",
       "1             30.0             33.3              33               10   \n",
       "2             23.5             26.9              24               14   \n",
       "3             25.5             26.9              45               20   \n",
       "4             33.5             39.3              33                4   \n",
       "\n",
       "   WindSpeedAt6pm  HumidityLevelAt10am  HumidityAt6pm  PressureAt10am  \\\n",
       "0              17                  110             72          1025.2   \n",
       "1              20                   70             35          1032.6   \n",
       "2              20                   98             63          1025.5   \n",
       "3              30                   82             59          1019.3   \n",
       "4              12                   94             49          1027.3   \n",
       "\n",
       "   PressureAt6pm  TemperatureAt10am  TemperatureAt6pm WillRainTomorrow?  \n",
       "0         1015.4               26.6              40.4                No  \n",
       "1         1035.4               26.6              39.3                No  \n",
       "2         1026.0               29.8              34.6               Yes  \n",
       "3         1016.9               24.2              30.8                No  \n",
       "4         1022.2               33.6              43.6                No  "
      ]
     },
     "execution_count": 4,
     "metadata": {},
     "output_type": "execute_result"
    }
   ],
   "source": [
    "df1 = pd.read_csv(\"Ind_Climate_RainPred.csv\")\n",
    "df1.head()"
   ]
  },
  {
   "cell_type": "markdown",
   "metadata": {},
   "source": [
    "\n",
    "### Let's begin with some hands-on practice exercises"
   ]
  },
  {
   "cell_type": "markdown",
   "metadata": {},
   "source": [
    "<a id=\"eda\"> </a>\n",
    "## 1. Exploratory Data Analysis"
   ]
  },
  {
   "cell_type": "markdown",
   "metadata": {
    "collapsed": true
   },
   "source": [
    "<table align=\"left\">\n",
    "    <tr>\n",
    "        <td width=\"6%\">\n",
    "            <img src=\"question_icon.png\">\n",
    "        </td>\n",
    "        <td>\n",
    "            <div align=\"left\", style=\"font-size:120%\">\n",
    "                <font color=\"#21618C\">\n",
    "                    <b>1. Check the datatype of all the variables in the dataset. If the datatype is not as per the definition, do the needful.</b>\n",
    "                </font>\n",
    "            </div>\n",
    "        </td>\n",
    "    </tr>\n",
    "</table>"
   ]
  },
  {
   "cell_type": "code",
   "execution_count": 5,
   "metadata": {},
   "outputs": [
    {
     "data": {
      "text/plain": [
       "(10464, 12)"
      ]
     },
     "execution_count": 5,
     "metadata": {},
     "output_type": "execute_result"
    }
   ],
   "source": [
    "df1.shape"
   ]
  },
  {
   "cell_type": "code",
   "execution_count": 6,
   "metadata": {},
   "outputs": [
    {
     "data": {
      "text/plain": [
       "Temperature_min        float64\n",
       "Temperature_max        float64\n",
       "WindSpeedAt3am           int64\n",
       "WindSpeedAt10am          int64\n",
       "WindSpeedAt6pm           int64\n",
       "HumidityLevelAt10am      int64\n",
       "HumidityAt6pm            int64\n",
       "PressureAt10am         float64\n",
       "PressureAt6pm          float64\n",
       "TemperatureAt10am      float64\n",
       "TemperatureAt6pm       float64\n",
       "WillRainTomorrow?       object\n",
       "dtype: object"
      ]
     },
     "execution_count": 6,
     "metadata": {},
     "output_type": "execute_result"
    }
   ],
   "source": [
    "df1.dtypes"
   ]
  },
  {
   "cell_type": "code",
   "execution_count": 7,
   "metadata": {},
   "outputs": [],
   "source": [
    "df1['WillRainTomorrow?'] = df1['WillRainTomorrow?'].replace(to_replace=['Yes','No'],value=[0,1])   #yes=0 ,no=1"
   ]
  },
  {
   "cell_type": "code",
   "execution_count": 8,
   "metadata": {},
   "outputs": [
    {
     "data": {
      "text/html": [
       "<div>\n",
       "<style scoped>\n",
       "    .dataframe tbody tr th:only-of-type {\n",
       "        vertical-align: middle;\n",
       "    }\n",
       "\n",
       "    .dataframe tbody tr th {\n",
       "        vertical-align: top;\n",
       "    }\n",
       "\n",
       "    .dataframe thead th {\n",
       "        text-align: right;\n",
       "    }\n",
       "</style>\n",
       "<table border=\"1\" class=\"dataframe\">\n",
       "  <thead>\n",
       "    <tr style=\"text-align: right;\">\n",
       "      <th></th>\n",
       "      <th>Temperature_min</th>\n",
       "      <th>Temperature_max</th>\n",
       "      <th>WindSpeedAt3am</th>\n",
       "      <th>WindSpeedAt10am</th>\n",
       "      <th>WindSpeedAt6pm</th>\n",
       "      <th>HumidityLevelAt10am</th>\n",
       "      <th>HumidityAt6pm</th>\n",
       "      <th>PressureAt10am</th>\n",
       "      <th>PressureAt6pm</th>\n",
       "      <th>TemperatureAt10am</th>\n",
       "      <th>TemperatureAt6pm</th>\n",
       "      <th>WillRainTomorrow?</th>\n",
       "    </tr>\n",
       "  </thead>\n",
       "  <tbody>\n",
       "    <tr>\n",
       "      <th>0</th>\n",
       "      <td>20.3</td>\n",
       "      <td>30.7</td>\n",
       "      <td>32</td>\n",
       "      <td>6</td>\n",
       "      <td>17</td>\n",
       "      <td>110</td>\n",
       "      <td>72</td>\n",
       "      <td>1025.2</td>\n",
       "      <td>1015.4</td>\n",
       "      <td>26.6</td>\n",
       "      <td>40.4</td>\n",
       "      <td>1</td>\n",
       "    </tr>\n",
       "    <tr>\n",
       "      <th>1</th>\n",
       "      <td>30.0</td>\n",
       "      <td>33.3</td>\n",
       "      <td>33</td>\n",
       "      <td>10</td>\n",
       "      <td>20</td>\n",
       "      <td>70</td>\n",
       "      <td>35</td>\n",
       "      <td>1032.6</td>\n",
       "      <td>1035.4</td>\n",
       "      <td>26.6</td>\n",
       "      <td>39.3</td>\n",
       "      <td>1</td>\n",
       "    </tr>\n",
       "    <tr>\n",
       "      <th>2</th>\n",
       "      <td>23.5</td>\n",
       "      <td>26.9</td>\n",
       "      <td>24</td>\n",
       "      <td>14</td>\n",
       "      <td>20</td>\n",
       "      <td>98</td>\n",
       "      <td>63</td>\n",
       "      <td>1025.5</td>\n",
       "      <td>1026.0</td>\n",
       "      <td>29.8</td>\n",
       "      <td>34.6</td>\n",
       "      <td>0</td>\n",
       "    </tr>\n",
       "    <tr>\n",
       "      <th>3</th>\n",
       "      <td>25.5</td>\n",
       "      <td>26.9</td>\n",
       "      <td>45</td>\n",
       "      <td>20</td>\n",
       "      <td>30</td>\n",
       "      <td>82</td>\n",
       "      <td>59</td>\n",
       "      <td>1019.3</td>\n",
       "      <td>1016.9</td>\n",
       "      <td>24.2</td>\n",
       "      <td>30.8</td>\n",
       "      <td>1</td>\n",
       "    </tr>\n",
       "    <tr>\n",
       "      <th>4</th>\n",
       "      <td>33.5</td>\n",
       "      <td>39.3</td>\n",
       "      <td>33</td>\n",
       "      <td>4</td>\n",
       "      <td>12</td>\n",
       "      <td>94</td>\n",
       "      <td>49</td>\n",
       "      <td>1027.3</td>\n",
       "      <td>1022.2</td>\n",
       "      <td>33.6</td>\n",
       "      <td>43.6</td>\n",
       "      <td>1</td>\n",
       "    </tr>\n",
       "  </tbody>\n",
       "</table>\n",
       "</div>"
      ],
      "text/plain": [
       "   Temperature_min  Temperature_max  WindSpeedAt3am  WindSpeedAt10am  \\\n",
       "0             20.3             30.7              32                6   \n",
       "1             30.0             33.3              33               10   \n",
       "2             23.5             26.9              24               14   \n",
       "3             25.5             26.9              45               20   \n",
       "4             33.5             39.3              33                4   \n",
       "\n",
       "   WindSpeedAt6pm  HumidityLevelAt10am  HumidityAt6pm  PressureAt10am  \\\n",
       "0              17                  110             72          1025.2   \n",
       "1              20                   70             35          1032.6   \n",
       "2              20                   98             63          1025.5   \n",
       "3              30                   82             59          1019.3   \n",
       "4              12                   94             49          1027.3   \n",
       "\n",
       "   PressureAt6pm  TemperatureAt10am  TemperatureAt6pm  WillRainTomorrow?  \n",
       "0         1015.4               26.6              40.4                  1  \n",
       "1         1035.4               26.6              39.3                  1  \n",
       "2         1026.0               29.8              34.6                  0  \n",
       "3         1016.9               24.2              30.8                  1  \n",
       "4         1022.2               33.6              43.6                  1  "
      ]
     },
     "execution_count": 8,
     "metadata": {},
     "output_type": "execute_result"
    }
   ],
   "source": [
    "df1.head()"
   ]
  },
  {
   "cell_type": "markdown",
   "metadata": {
    "collapsed": true
   },
   "source": [
    "<table align=\"left\">\n",
    "    <tr>\n",
    "        <td width=\"6%\">\n",
    "            <img src=\"question_icon.png\">\n",
    "        </td>\n",
    "        <td>\n",
    "            <div align=\"left\", style=\"font-size:120%\">\n",
    "                <font color=\"#21618C\">\n",
    "                    <b>2. Check the statistical summary of all the numerical variables.</b>\n",
    "                </font>\n",
    "            </div>\n",
    "        </td>\n",
    "    </tr>\n",
    "</table>"
   ]
  },
  {
   "cell_type": "code",
   "execution_count": 9,
   "metadata": {},
   "outputs": [
    {
     "data": {
      "text/html": [
       "<div>\n",
       "<style scoped>\n",
       "    .dataframe tbody tr th:only-of-type {\n",
       "        vertical-align: middle;\n",
       "    }\n",
       "\n",
       "    .dataframe tbody tr th {\n",
       "        vertical-align: top;\n",
       "    }\n",
       "\n",
       "    .dataframe thead th {\n",
       "        text-align: right;\n",
       "    }\n",
       "</style>\n",
       "<table border=\"1\" class=\"dataframe\">\n",
       "  <thead>\n",
       "    <tr style=\"text-align: right;\">\n",
       "      <th></th>\n",
       "      <th>Temperature_min</th>\n",
       "      <th>Temperature_max</th>\n",
       "      <th>WindSpeedAt3am</th>\n",
       "      <th>WindSpeedAt10am</th>\n",
       "      <th>WindSpeedAt6pm</th>\n",
       "      <th>HumidityLevelAt10am</th>\n",
       "      <th>HumidityAt6pm</th>\n",
       "      <th>PressureAt10am</th>\n",
       "      <th>PressureAt6pm</th>\n",
       "      <th>TemperatureAt10am</th>\n",
       "      <th>TemperatureAt6pm</th>\n",
       "      <th>WillRainTomorrow?</th>\n",
       "    </tr>\n",
       "  </thead>\n",
       "  <tbody>\n",
       "    <tr>\n",
       "      <th>count</th>\n",
       "      <td>10464.000000</td>\n",
       "      <td>10464.000000</td>\n",
       "      <td>10464.000000</td>\n",
       "      <td>10464.000000</td>\n",
       "      <td>10464.000000</td>\n",
       "      <td>10464.000000</td>\n",
       "      <td>10464.000000</td>\n",
       "      <td>10464.000000</td>\n",
       "      <td>10464.000000</td>\n",
       "      <td>10464.000000</td>\n",
       "      <td>10464.000000</td>\n",
       "      <td>10464.000000</td>\n",
       "    </tr>\n",
       "    <tr>\n",
       "      <th>mean</th>\n",
       "      <td>26.308964</td>\n",
       "      <td>30.309939</td>\n",
       "      <td>41.391820</td>\n",
       "      <td>15.379683</td>\n",
       "      <td>20.394209</td>\n",
       "      <td>82.210627</td>\n",
       "      <td>60.992928</td>\n",
       "      <td>1023.362481</td>\n",
       "      <td>1020.702332</td>\n",
       "      <td>30.713083</td>\n",
       "      <td>36.218626</td>\n",
       "      <td>0.522171</td>\n",
       "    </tr>\n",
       "    <tr>\n",
       "      <th>std</th>\n",
       "      <td>6.843041</td>\n",
       "      <td>7.424327</td>\n",
       "      <td>14.437279</td>\n",
       "      <td>7.449217</td>\n",
       "      <td>7.847386</td>\n",
       "      <td>18.557838</td>\n",
       "      <td>22.737736</td>\n",
       "      <td>7.536385</td>\n",
       "      <td>7.433202</td>\n",
       "      <td>6.752840</td>\n",
       "      <td>7.723442</td>\n",
       "      <td>0.499532</td>\n",
       "    </tr>\n",
       "    <tr>\n",
       "      <th>min</th>\n",
       "      <td>7.200000</td>\n",
       "      <td>13.200000</td>\n",
       "      <td>9.000000</td>\n",
       "      <td>2.000000</td>\n",
       "      <td>2.000000</td>\n",
       "      <td>11.000000</td>\n",
       "      <td>4.000000</td>\n",
       "      <td>993.700000</td>\n",
       "      <td>991.900000</td>\n",
       "      <td>10.300000</td>\n",
       "      <td>16.700000</td>\n",
       "      <td>0.000000</td>\n",
       "    </tr>\n",
       "    <tr>\n",
       "      <th>25%</th>\n",
       "      <td>21.300000</td>\n",
       "      <td>24.600000</td>\n",
       "      <td>31.000000</td>\n",
       "      <td>10.000000</td>\n",
       "      <td>15.000000</td>\n",
       "      <td>70.000000</td>\n",
       "      <td>44.000000</td>\n",
       "      <td>1018.400000</td>\n",
       "      <td>1015.600000</td>\n",
       "      <td>25.800000</td>\n",
       "      <td>30.600000</td>\n",
       "      <td>0.000000</td>\n",
       "    </tr>\n",
       "    <tr>\n",
       "      <th>50%</th>\n",
       "      <td>26.200000</td>\n",
       "      <td>29.500000</td>\n",
       "      <td>39.000000</td>\n",
       "      <td>14.000000</td>\n",
       "      <td>20.000000</td>\n",
       "      <td>85.000000</td>\n",
       "      <td>59.000000</td>\n",
       "      <td>1023.400000</td>\n",
       "      <td>1020.700000</td>\n",
       "      <td>30.800000</td>\n",
       "      <td>35.600000</td>\n",
       "      <td>1.000000</td>\n",
       "    </tr>\n",
       "    <tr>\n",
       "      <th>75%</th>\n",
       "      <td>31.500000</td>\n",
       "      <td>35.600000</td>\n",
       "      <td>49.000000</td>\n",
       "      <td>20.000000</td>\n",
       "      <td>25.000000</td>\n",
       "      <td>98.000000</td>\n",
       "      <td>77.000000</td>\n",
       "      <td>1028.600000</td>\n",
       "      <td>1025.700000</td>\n",
       "      <td>35.400000</td>\n",
       "      <td>41.400000</td>\n",
       "      <td>1.000000</td>\n",
       "    </tr>\n",
       "    <tr>\n",
       "      <th>max</th>\n",
       "      <td>47.300000</td>\n",
       "      <td>55.800000</td>\n",
       "      <td>131.000000</td>\n",
       "      <td>58.000000</td>\n",
       "      <td>63.000000</td>\n",
       "      <td>110.000000</td>\n",
       "      <td>110.000000</td>\n",
       "      <td>1048.900000</td>\n",
       "      <td>1046.400000</td>\n",
       "      <td>56.300000</td>\n",
       "      <td>63.300000</td>\n",
       "      <td>1.000000</td>\n",
       "    </tr>\n",
       "  </tbody>\n",
       "</table>\n",
       "</div>"
      ],
      "text/plain": [
       "       Temperature_min  Temperature_max  WindSpeedAt3am  WindSpeedAt10am  \\\n",
       "count     10464.000000     10464.000000    10464.000000     10464.000000   \n",
       "mean         26.308964        30.309939       41.391820        15.379683   \n",
       "std           6.843041         7.424327       14.437279         7.449217   \n",
       "min           7.200000        13.200000        9.000000         2.000000   \n",
       "25%          21.300000        24.600000       31.000000        10.000000   \n",
       "50%          26.200000        29.500000       39.000000        14.000000   \n",
       "75%          31.500000        35.600000       49.000000        20.000000   \n",
       "max          47.300000        55.800000      131.000000        58.000000   \n",
       "\n",
       "       WindSpeedAt6pm  HumidityLevelAt10am  HumidityAt6pm  PressureAt10am  \\\n",
       "count    10464.000000         10464.000000   10464.000000    10464.000000   \n",
       "mean        20.394209            82.210627      60.992928     1023.362481   \n",
       "std          7.847386            18.557838      22.737736        7.536385   \n",
       "min          2.000000            11.000000       4.000000      993.700000   \n",
       "25%         15.000000            70.000000      44.000000     1018.400000   \n",
       "50%         20.000000            85.000000      59.000000     1023.400000   \n",
       "75%         25.000000            98.000000      77.000000     1028.600000   \n",
       "max         63.000000           110.000000     110.000000     1048.900000   \n",
       "\n",
       "       PressureAt6pm  TemperatureAt10am  TemperatureAt6pm  WillRainTomorrow?  \n",
       "count   10464.000000       10464.000000      10464.000000       10464.000000  \n",
       "mean     1020.702332          30.713083         36.218626           0.522171  \n",
       "std         7.433202           6.752840          7.723442           0.499532  \n",
       "min       991.900000          10.300000         16.700000           0.000000  \n",
       "25%      1015.600000          25.800000         30.600000           0.000000  \n",
       "50%      1020.700000          30.800000         35.600000           1.000000  \n",
       "75%      1025.700000          35.400000         41.400000           1.000000  \n",
       "max      1046.400000          56.300000         63.300000           1.000000  "
      ]
     },
     "execution_count": 9,
     "metadata": {},
     "output_type": "execute_result"
    }
   ],
   "source": [
    "df1.describe(include=np.number)"
   ]
  },
  {
   "cell_type": "markdown",
   "metadata": {
    "collapsed": true
   },
   "source": [
    "<table align=\"left\">\n",
    "    <tr>\n",
    "        <td width=\"6%\">\n",
    "            <img src=\"question_icon.png\">\n",
    "        </td>\n",
    "        <td>\n",
    "            <div align=\"left\", style=\"font-size:120%\">\n",
    "                <font color=\"#21618C\">\n",
    "                    <b>3. Is the target variable highly imbalanced? </b>\n",
    "                </font>\n",
    "            </div>\n",
    "        </td>\n",
    "    </tr>\n",
    "</table>"
   ]
  },
  {
   "cell_type": "code",
   "execution_count": 10,
   "metadata": {},
   "outputs": [
    {
     "data": {
      "text/plain": [
       "1    5464\n",
       "0    5000\n",
       "Name: WillRainTomorrow?, dtype: int64"
      ]
     },
     "execution_count": 10,
     "metadata": {},
     "output_type": "execute_result"
    }
   ],
   "source": [
    "df1['WillRainTomorrow?'].value_counts()"
   ]
  },
  {
   "cell_type": "markdown",
   "metadata": {
    "collapsed": true
   },
   "source": [
    "<table align=\"left\">\n",
    "    <tr>\n",
    "        <td width=\"6%\">\n",
    "            <img src=\"question_icon.png\">\n",
    "        </td>\n",
    "        <td>\n",
    "            <div align=\"left\", style=\"font-size:120%\">\n",
    "                <font color=\"#21618C\">\n",
    "                    <b>4. Check if any missing values are present in the data. If yes, do the needful.</b>\n",
    "                </font>\n",
    "            </div>\n",
    "        </td>\n",
    "    </tr>\n",
    "</table>"
   ]
  },
  {
   "cell_type": "code",
   "execution_count": 11,
   "metadata": {},
   "outputs": [
    {
     "data": {
      "text/plain": [
       "Temperature_min        0\n",
       "Temperature_max        0\n",
       "WindSpeedAt3am         0\n",
       "WindSpeedAt10am        0\n",
       "WindSpeedAt6pm         0\n",
       "HumidityLevelAt10am    0\n",
       "HumidityAt6pm          0\n",
       "PressureAt10am         0\n",
       "PressureAt6pm          0\n",
       "TemperatureAt10am      0\n",
       "TemperatureAt6pm       0\n",
       "WillRainTomorrow?      0\n",
       "dtype: int64"
      ]
     },
     "execution_count": 11,
     "metadata": {},
     "output_type": "execute_result"
    }
   ],
   "source": [
    "df1.isnull().sum()"
   ]
  },
  {
   "cell_type": "markdown",
   "metadata": {
    "collapsed": true
   },
   "source": [
    "<table align=\"left\">\n",
    "    <tr>\n",
    "        <td width=\"6%\">\n",
    "            <img src=\"question_icon.png\">\n",
    "        </td>\n",
    "        <td>\n",
    "            <div align=\"left\", style=\"font-size:120%\">\n",
    "                <font color=\"#21618C\">\n",
    "                    <b>5. Visualize the distribution of all the independent variables and identify the type of skewness.</b>\n",
    "                </font>\n",
    "            </div>\n",
    "        </td>\n",
    "    </tr>\n",
    "</table>"
   ]
  },
  {
   "cell_type": "code",
   "execution_count": 12,
   "metadata": {},
   "outputs": [],
   "source": [
    "import seaborn as sns"
   ]
  },
  {
   "cell_type": "code",
   "execution_count": 13,
   "metadata": {},
   "outputs": [],
   "source": [
    "X = df1.drop(columns=['WillRainTomorrow?'],axis=1)"
   ]
  },
  {
   "cell_type": "code",
   "execution_count": 14,
   "metadata": {},
   "outputs": [
    {
     "data": {
      "image/png": "[encoded data removed]",
      "text/plain": [
       "<Figure size 1080x576 with 12 Axes>"
      ]
     },
     "metadata": {
      "needs_background": "light"
     },
     "output_type": "display_data"
    }
   ],
   "source": [
    "# for the independent numeric variables, we plot the histogram to check the distribution of the variables\n",
    "# Note: the hist() function considers the numeric variables only, by default\n",
    "# we drop the target variable using the 'drop()'\n",
    "# 'axis=1' drops the specified column\n",
    "X.hist()\n",
    "\n",
    "# adjust the subplots\n",
    "plt.tight_layout()\n",
    "\n",
    "# display the plot\n",
    "plt.show()"
   ]
  },
  {
   "cell_type": "code",
   "execution_count": 15,
   "metadata": {},
   "outputs": [
    {
     "data": {
      "text/plain": [
       "Temperature_min        0.006720\n",
       "Temperature_max        0.361414\n",
       "WindSpeedAt3am         0.965806\n",
       "WindSpeedAt10am        0.681830\n",
       "WindSpeedAt6pm         0.625044\n",
       "HumidityLevelAt10am   -0.636941\n",
       "HumidityAt6pm          0.187420\n",
       "PressureAt10am        -0.050507\n",
       "PressureAt6pm          0.004457\n",
       "TemperatureAt10am      0.075801\n",
       "TemperatureAt6pm       0.312913\n",
       "dtype: float64"
      ]
     },
     "execution_count": 15,
     "metadata": {},
     "output_type": "execute_result"
    }
   ],
   "source": [
    "X.skew()"
   ]
  },
  {
   "cell_type": "markdown",
   "metadata": {
    "collapsed": true
   },
   "source": [
    "<table align=\"left\">\n",
    "    <tr>\n",
    "        <td width=\"6%\">\n",
    "            <img src=\"question_icon.png\">\n",
    "        </td>\n",
    "        <td>\n",
    "            <div align=\"left\", style=\"font-size:120%\">\n",
    "                <font color=\"#21618C\">\n",
    "                    <b>6. Transform the independent variables such that each variable will have a mean zero and standard deviation of 1.</b>\n",
    "                </font>\n",
    "            </div>\n",
    "        </td>\n",
    "    </tr>\n",
    "</table>"
   ]
  },
  {
   "cell_type": "code",
   "execution_count": 16,
   "metadata": {},
   "outputs": [
    {
     "name": "stdout",
     "output_type": "stream",
     "text": [
      "(10464, 11)\n"
     ]
    }
   ],
   "source": [
    "# standardize all the independent variables \n",
    "# we drop the target variable using the 'drop()'\n",
    "# 'axis=1' drops the specified column\n",
    "# the 'fit_transform()' transforms the data by first computing the mean and sd and later scaling the data\n",
    "df2 = StandardScaler().fit_transform(X)\n",
    "\n",
    "# print the dimension of the standardized data\n",
    "print(df2.shape)"
   ]
  },
  {
   "cell_type": "code",
   "execution_count": 19,
   "metadata": {},
   "outputs": [],
   "source": [
    "df_scale = pd.DataFrame(df2)"
   ]
  },
  {
   "cell_type": "markdown",
   "metadata": {},
   "source": [
    "<a id=\"pca\"> </a>\n",
    "## 2. Principal Component Analysis (PCA)"
   ]
  },
  {
   "cell_type": "markdown",
   "metadata": {
    "collapsed": true
   },
   "source": [
    "<table align=\"left\">\n",
    "    <tr>\n",
    "        <td width=\"6%\">\n",
    "            <img src=\"question_icon.png\">\n",
    "        </td>\n",
    "        <td>\n",
    "            <div align=\"left\", style=\"font-size:120%\">\n",
    "                <font color=\"#21618C\">\n",
    "                    <b>7. Find the covariance matrix of the standardized data.</b>\n",
    "                </font>\n",
    "            </div>\n",
    "        </td>\n",
    "    </tr>\n",
    "</table>"
   ]
  },
  {
   "cell_type": "code",
   "execution_count": 20,
   "metadata": {},
   "outputs": [
    {
     "name": "stdout",
     "output_type": "stream",
     "text": [
      "[[ 1.00009557  0.62986804  0.2774717   0.19188583  0.10114221 -0.25035675\n",
      "  -0.05795163 -0.3635111  -0.34036162  0.71612149  0.54811355]\n",
      " [ 0.62986804  1.00009557  0.23626203 -0.01431146  0.07161277 -0.50728072\n",
      "  -0.55772371 -0.24497184 -0.29854472  0.76966307  0.8658169 ]\n",
      " [ 0.2774717   0.23626203  1.00009557  0.42037333  0.57176138 -0.27611053\n",
      "  -0.11724591 -0.47841125 -0.47563157  0.27207988  0.17209019]\n",
      " [ 0.19188583 -0.01431146  0.42037333  1.00009557  0.33458778 -0.31749763\n",
      "  -0.00663469 -0.25165481 -0.18433562  0.14168084 -0.0391036 ]\n",
      " [ 0.10114221  0.07161277  0.57176138  0.33458778  1.00009557 -0.19684857\n",
      "  -0.15049059 -0.33940416 -0.30875067  0.10542863  0.04909065]]\n"
     ]
    }
   ],
   "source": [
    "# generate the covariance matrix using 'cov' function\n",
    "# consider the transpose of the dataframe 'df_attr_std' to obtain the covarinace between the independent variables (columns)  \n",
    "cov_mat = np.cov(df2.T)\n",
    "\n",
    "# as 'cov_mat' is a numpy array, select first five observations with [0:5]\n",
    "print(cov_mat[0:5])"
   ]
  },
  {
   "cell_type": "markdown",
   "metadata": {},
   "source": [
    "**Interpretation:** The covariance matrix is a square matrix of dimension 14x14. The diagonal entries correspond to the variance of each variable (which is always equal to 1, as we are using the standardized data) and the off-diagonal entries represent the covariances between the variables."
   ]
  },
  {
   "cell_type": "markdown",
   "metadata": {
    "collapsed": true
   },
   "source": [
    "<table align=\"left\">\n",
    "    <tr>\n",
    "        <td width=\"6%\">\n",
    "            <img src=\"question_icon.png\">\n",
    "        </td>\n",
    "        <td>\n",
    "            <div align=\"left\", style=\"font-size:120%\">\n",
    "                <font color=\"#21618C\">\n",
    "                    <b>8. Compute the eigenvalues and eigenvectors of the above covariance matrix.</b>\n",
    "                </font>\n",
    "            </div>\n",
    "        </td>\n",
    "    </tr>\n",
    "</table>"
   ]
  },
  {
   "cell_type": "code",
   "execution_count": 21,
   "metadata": {},
   "outputs": [
    {
     "name": "stdout",
     "output_type": "stream",
     "text": [
      "Eigenvalues: \n",
      " \n",
      " [4.37827342 2.20537611 1.4028951  0.93909121 0.69185977 0.38762838\n",
      " 0.34242384 0.24329175 0.11262274 0.13748201 0.160107  ] \n",
      "\n",
      "Eigenvectors: \n",
      " \n",
      " [[ 0.33781785  0.03549082  0.35858565 -0.42444298  0.13644818  0.14320347\n",
      "  -0.03924682  0.7102148   0.1131725  -0.11587593 -0.06766114]\n",
      " [ 0.40087506  0.28485778  0.10425574  0.03376955  0.1189962  -0.08118397\n",
      "   0.15405941 -0.11028839 -0.82752819 -0.0604924   0.03216514]\n",
      " [ 0.26666777 -0.38120744 -0.1908883  -0.02705605  0.31592881 -0.78707893\n",
      "  -0.12571969  0.05588588  0.05942134  0.04255307 -0.05314346]\n",
      " [ 0.14561644 -0.32320401 -0.33544556 -0.59156622 -0.38842204  0.06004674\n",
      "   0.47855507 -0.14902074 -0.05799504 -0.04274979 -0.03114975]\n",
      " [ 0.17812567 -0.3671682  -0.34917199  0.09189247  0.61597616  0.55598391\n",
      "  -0.01913024 -0.05338958 -0.03795733 -0.01323056  0.09857223]\n",
      " [-0.3093895  -0.14948994  0.44585592  0.03061406  0.38031984 -0.06731708\n",
      "   0.58995926 -0.13531557  0.03534899 -0.07698165 -0.39936631]\n",
      " [-0.24976325 -0.30898812  0.45624609 -0.36844966  0.09207514 -0.01787154\n",
      "  -0.23378475 -0.23506779 -0.17196895  0.16355004  0.56850478]\n",
      " [-0.27406409  0.40143674 -0.25274467 -0.30171211  0.3001498  -0.14722646\n",
      "   0.01395408 -0.06669288  0.08751121 -0.65207056  0.24405929]\n",
      " [-0.28205479  0.36137641 -0.26688296 -0.38869691  0.27424017 -0.02518643\n",
      "  -0.05866258  0.06810348 -0.09611842  0.65166705 -0.22295802]\n",
      " [ 0.38706309  0.15069408  0.20620235 -0.26766507  0.06056677  0.09685816\n",
      "  -0.35164425 -0.59654261  0.25826243 -0.07595066 -0.38506476]\n",
      " [ 0.37221806  0.31737997  0.07134515  0.09554306  0.12257873 -0.06436221\n",
      "   0.44670135 -0.12936102  0.42383332  0.30131517  0.49054575]] \n",
      "\n"
     ]
    }
   ],
   "source": [
    "# use 'eig' function to compute eigenvalues and eigenvectors of the covariance matrix\n",
    "eig_val, eig_vec = np.linalg.eig(cov_mat)\n",
    "\n",
    "print('Eigenvalues:','\\n','\\n', eig_val,\"\\n\")\n",
    "\n",
    "print('Eigenvectors:','\\n','\\n',eig_vec,'\\n')"
   ]
  },
  {
   "cell_type": "markdown",
   "metadata": {
    "collapsed": true
   },
   "source": [
    "<table align=\"left\">\n",
    "    <tr>\n",
    "        <td width=\"6%\">\n",
    "            <img src=\"question_icon.png\">\n",
    "        </td>\n",
    "        <td>\n",
    "            <div align=\"left\", style=\"font-size:120%\">\n",
    "                <font color=\"#21618C\">\n",
    "                    <b>9. Use the Kaiser criterion to identify the optimal number of principal components.</b>\n",
    "                </font>\n",
    "            </div>\n",
    "        </td>\n",
    "    </tr>\n",
    "</table>"
   ]
  },
  {
   "cell_type": "code",
   "execution_count": 22,
   "metadata": {},
   "outputs": [
    {
     "name": "stdout",
     "output_type": "stream",
     "text": [
      "[4.378273424761767, 2.2053761142853316, 1.4028950957281154, 0.9390912080234753, 0.6918597738714424, 0.38762837994450333, 0.34242383692492584, 0.2432917452762675, 0.16010699746005672, 0.13748200581003225, 0.11262274162621079]\n"
     ]
    }
   ],
   "source": [
    "# create a list of eigenvalues\n",
    "eig_val = list(eig_val)\n",
    "\n",
    "# 'sort(reverse = True)' will sort the eigenvalues in the descending order\n",
    "eig_val.sort(reverse = True)\n",
    "\n",
    "# print the sorted list\n",
    "print(eig_val)"
   ]
  },
  {
   "cell_type": "markdown",
   "metadata": {},
   "source": [
    "#### 1) Kaiser criterion: This criterion considers the number of pricipal components for which the eigenvalue is greater than 1. This criterion suffers a drawback of selecting more number of components as the eigenvalues very close to 1 may not contribute significantly in explaining the variation in the data.\n",
    "\n",
    "Here the first three eigenvalues are greater than 1. Thus we can consider 3 principal components using kaiser criterion."
   ]
  },
  {
   "cell_type": "markdown",
   "metadata": {
    "collapsed": true
   },
   "source": [
    "<table align=\"left\">\n",
    "    <tr>\n",
    "        <td width=\"6%\">\n",
    "            <img src=\"question_icon.png\">\n",
    "        </td>\n",
    "        <td>\n",
    "            <div align=\"left\", style=\"font-size:120%\">\n",
    "                <font color=\"#21618C\">\n",
    "                    <b>10. How many minimum principal components are required to explain at least 80% of the variation in the data?</b>\n",
    "                </font>\n",
    "            </div>\n",
    "        </td>\n",
    "    </tr>\n",
    "</table>"
   ]
  },
  {
   "cell_type": "code",
   "execution_count": 23,
   "metadata": {},
   "outputs": [
    {
     "data": {
      "text/plain": [
       "[39.79868192528702,\n",
       " 20.046957780587494,\n",
       " 12.752372972792669,\n",
       " 8.536376936987093,\n",
       " 6.2890332343071496,\n",
       " 3.5235575995268094,\n",
       " 3.112646481221764,\n",
       " 2.2115317719849763,\n",
       " 1.4553790610444237,\n",
       " 1.2497169749012784,\n",
       " 1.0237452613593303]"
      ]
     },
     "execution_count": 23,
     "metadata": {},
     "output_type": "execute_result"
    }
   ],
   "source": [
    "# calculate the percentage of variation explained by each principal component\n",
    "# create an empty list to store the percentage of variation explained by each principal component\n",
    "percent_var = []\n",
    "\n",
    "# use a 'for' loop to calculate the percentage of variation for each component\n",
    "for i in eig_val:\n",
    "    variation = (i/sum(eig_val))*100\n",
    "    \n",
    "    # add the values to the list 'percent_var'\n",
    "    percent_var.append(variation)\n",
    "    \n",
    "# print the percentage of variation\n",
    "percent_var"
   ]
  },
  {
   "cell_type": "code",
   "execution_count": 24,
   "metadata": {},
   "outputs": [
    {
     "data": {
      "text/plain": [
       "array([ 39.79868193,  59.84563971,  72.59801268,  81.13438962,\n",
       "        87.42342285,  90.94698045,  94.05962693,  96.2711587 ,\n",
       "        97.72653776,  98.97625474, 100.        ])"
      ]
     },
     "execution_count": 24,
     "metadata": {},
     "output_type": "execute_result"
    }
   ],
   "source": [
    "# the 'cumsum()' returns the cumulative sum \n",
    "np.cumsum(percent_var)"
   ]
  },
  {
   "cell_type": "code",
   "execution_count": 25,
   "metadata": {},
   "outputs": [],
   "source": [
    "#4"
   ]
  },
  {
   "cell_type": "markdown",
   "metadata": {
    "collapsed": true
   },
   "source": [
    "<table align=\"left\">\n",
    "    <tr>\n",
    "        <td width=\"6%\">\n",
    "            <img src=\"question_icon.png\">\n",
    "        </td>\n",
    "        <td>\n",
    "            <div align=\"left\", style=\"font-size:120%\">\n",
    "                <font color=\"#21618C\">\n",
    "                    <b>11. Create a dataframe of the transformed data with 4 principal components.</b>\n",
    "                </font>\n",
    "            </div>\n",
    "        </td>\n",
    "    </tr>\n",
    "</table>"
   ]
  },
  {
   "cell_type": "code",
   "execution_count": 26,
   "metadata": {},
   "outputs": [
    {
     "data": {
      "text/plain": [
       "array([[ 0.33781785,  0.03549082,  0.35858565, -0.42444298],\n",
       "       [ 0.40087506,  0.28485778,  0.10425574,  0.03376955],\n",
       "       [ 0.26666777, -0.38120744, -0.1908883 , -0.02705605],\n",
       "       [ 0.14561644, -0.32320401, -0.33544556, -0.59156622],\n",
       "       [ 0.17812567, -0.3671682 , -0.34917199,  0.09189247],\n",
       "       [-0.3093895 , -0.14948994,  0.44585592,  0.03061406],\n",
       "       [-0.24976325, -0.30898812,  0.45624609, -0.36844966],\n",
       "       [-0.27406409,  0.40143674, -0.25274467, -0.30171211],\n",
       "       [-0.28205479,  0.36137641, -0.26688296, -0.38869691],\n",
       "       [ 0.38706309,  0.15069408,  0.20620235, -0.26766507],\n",
       "       [ 0.37221806,  0.31737997,  0.07134515,  0.09554306]])"
      ]
     },
     "execution_count": 26,
     "metadata": {},
     "output_type": "execute_result"
    }
   ],
   "source": [
    "# consider the eigenvectors corresponding to the first five highest eigenvalues\n",
    "# these eigenvectors are the 1st, 2nd, 9th, 10th and 11th columns of 'eig_vec' \n",
    "eigenvector = eig_vec[:,[0,1,2,3]]\n",
    "\n",
    "# print the vectors\n",
    "eigenvector"
   ]
  },
  {
   "cell_type": "code",
   "execution_count": 27,
   "metadata": {},
   "outputs": [
    {
     "data": {
      "text/html": [
       "<div>\n",
       "<style scoped>\n",
       "    .dataframe tbody tr th:only-of-type {\n",
       "        vertical-align: middle;\n",
       "    }\n",
       "\n",
       "    .dataframe tbody tr th {\n",
       "        vertical-align: top;\n",
       "    }\n",
       "\n",
       "    .dataframe thead th {\n",
       "        text-align: right;\n",
       "    }\n",
       "</style>\n",
       "<table border=\"1\" class=\"dataframe\">\n",
       "  <thead>\n",
       "    <tr style=\"text-align: right;\">\n",
       "      <th></th>\n",
       "      <th>PC1</th>\n",
       "      <th>PC2</th>\n",
       "      <th>PC3</th>\n",
       "      <th>PC4</th>\n",
       "    </tr>\n",
       "  </thead>\n",
       "  <tbody>\n",
       "    <tr>\n",
       "      <th>0</th>\n",
       "      <td>-1.193577</td>\n",
       "      <td>0.344281</td>\n",
       "      <td>1.318532</td>\n",
       "      <td>1.383219</td>\n",
       "    </tr>\n",
       "    <tr>\n",
       "      <th>1</th>\n",
       "      <td>-0.417268</td>\n",
       "      <td>2.300435</td>\n",
       "      <td>-1.143463</td>\n",
       "      <td>-0.313206</td>\n",
       "    </tr>\n",
       "    <tr>\n",
       "      <th>2</th>\n",
       "      <td>-1.374390</td>\n",
       "      <td>0.522208</td>\n",
       "      <td>0.229444</td>\n",
       "      <td>-0.056650</td>\n",
       "    </tr>\n",
       "    <tr>\n",
       "      <th>3</th>\n",
       "      <td>-0.166105</td>\n",
       "      <td>-1.620767</td>\n",
       "      <td>-0.794714</td>\n",
       "      <td>0.358037</td>\n",
       "    </tr>\n",
       "    <tr>\n",
       "      <th>4</th>\n",
       "      <td>0.528825</td>\n",
       "      <td>2.208708</td>\n",
       "      <td>1.513146</td>\n",
       "      <td>0.370726</td>\n",
       "    </tr>\n",
       "  </tbody>\n",
       "</table>\n",
       "</div>"
      ],
      "text/plain": [
       "        PC1       PC2       PC3       PC4\n",
       "0 -1.193577  0.344281  1.318532  1.383219\n",
       "1 -0.417268  2.300435 -1.143463 -0.313206\n",
       "2 -1.374390  0.522208  0.229444 -0.056650\n",
       "3 -0.166105 -1.620767 -0.794714  0.358037\n",
       "4  0.528825  2.208708  1.513146  0.370726"
      ]
     },
     "execution_count": 27,
     "metadata": {},
     "output_type": "execute_result"
    }
   ],
   "source": [
    "# take the dot product of 'df_attr_std' with 'eigenvector' to obtain new dataset\n",
    "# create a dataframe of principal components\n",
    "# pass the required column names to the parameter 'columns'\n",
    "df_pca = pd.DataFrame(df2.dot(eigenvector), columns= ['PC1','PC2', 'PC3', 'PC4'])\n",
    "\n",
    "# head() to display top five rows\n",
    "df_pca.head()"
   ]
  },
  {
   "cell_type": "code",
   "execution_count": 28,
   "metadata": {},
   "outputs": [
    {
     "data": {
      "text/plain": [
       "(10464, 4)"
      ]
     },
     "execution_count": 28,
     "metadata": {},
     "output_type": "execute_result"
    }
   ],
   "source": [
    "# check the shape of the transformed data\n",
    "df_pca.shape"
   ]
  },
  {
   "cell_type": "markdown",
   "metadata": {
    "collapsed": true
   },
   "source": [
    "<table align=\"left\">\n",
    "    <tr>\n",
    "        <td width=\"6%\">\n",
    "            <img src=\"question_icon.png\">\n",
    "        </td>\n",
    "        <td>\n",
    "            <div align=\"left\", style=\"font-size:120%\">\n",
    "                <font color=\"#21618C\">\n",
    "                    <b>12. Visualize the rain prediction data by transforming it to 2-dimensions using the python library. Also, display the classes of the target variables with different colors.</b>\n",
    "                </font>\n",
    "            </div>\n",
    "        </td>\n",
    "    </tr>\n",
    "</table>"
   ]
  },
  {
   "cell_type": "code",
   "execution_count": 29,
   "metadata": {},
   "outputs": [],
   "source": [
    "# specify the required no of components to the parameter 'n_components'\n",
    "# pass the 'random_state' to get the same output for multiple runs\n",
    "pca = PCA(n_components = 4, random_state = 10)\n",
    "\n",
    "# the 'fit_transform()' fits the PCA on the data transforms the data to compute the principal components \n",
    "# pass the standardized data to fit PCA\n",
    "components = pca.fit_transform(df2)"
   ]
  },
  {
   "cell_type": "code",
   "execution_count": 30,
   "metadata": {},
   "outputs": [
    {
     "data": {
      "text/html": [
       "<div>\n",
       "<style scoped>\n",
       "    .dataframe tbody tr th:only-of-type {\n",
       "        vertical-align: middle;\n",
       "    }\n",
       "\n",
       "    .dataframe tbody tr th {\n",
       "        vertical-align: top;\n",
       "    }\n",
       "\n",
       "    .dataframe thead th {\n",
       "        text-align: right;\n",
       "    }\n",
       "</style>\n",
       "<table border=\"1\" class=\"dataframe\">\n",
       "  <thead>\n",
       "    <tr style=\"text-align: right;\">\n",
       "      <th></th>\n",
       "      <th>PC1</th>\n",
       "      <th>PC2</th>\n",
       "      <th>PC3</th>\n",
       "      <th>PC4</th>\n",
       "    </tr>\n",
       "  </thead>\n",
       "  <tbody>\n",
       "    <tr>\n",
       "      <th>0</th>\n",
       "      <td>-1.193577</td>\n",
       "      <td>-0.344281</td>\n",
       "      <td>-1.318532</td>\n",
       "      <td>1.383219</td>\n",
       "    </tr>\n",
       "    <tr>\n",
       "      <th>1</th>\n",
       "      <td>-0.417268</td>\n",
       "      <td>-2.300435</td>\n",
       "      <td>1.143463</td>\n",
       "      <td>-0.313206</td>\n",
       "    </tr>\n",
       "    <tr>\n",
       "      <th>2</th>\n",
       "      <td>-1.374390</td>\n",
       "      <td>-0.522208</td>\n",
       "      <td>-0.229444</td>\n",
       "      <td>-0.056650</td>\n",
       "    </tr>\n",
       "    <tr>\n",
       "      <th>3</th>\n",
       "      <td>-0.166105</td>\n",
       "      <td>1.620767</td>\n",
       "      <td>0.794714</td>\n",
       "      <td>0.358037</td>\n",
       "    </tr>\n",
       "    <tr>\n",
       "      <th>4</th>\n",
       "      <td>0.528825</td>\n",
       "      <td>-2.208708</td>\n",
       "      <td>-1.513146</td>\n",
       "      <td>0.370726</td>\n",
       "    </tr>\n",
       "  </tbody>\n",
       "</table>\n",
       "</div>"
      ],
      "text/plain": [
       "        PC1       PC2       PC3       PC4\n",
       "0 -1.193577 -0.344281 -1.318532  1.383219\n",
       "1 -0.417268 -2.300435  1.143463 -0.313206\n",
       "2 -1.374390 -0.522208 -0.229444 -0.056650\n",
       "3 -0.166105  1.620767  0.794714  0.358037\n",
       "4  0.528825 -2.208708 -1.513146  0.370726"
      ]
     },
     "execution_count": 30,
     "metadata": {},
     "output_type": "execute_result"
    }
   ],
   "source": [
    "# create a dataframe of principal components\n",
    "# pass the required column names to the parameter 'columns'\n",
    "df_pca_sklearn = pd.DataFrame(data = components, columns = ['PC1', 'PC2', 'PC3', 'PC4'])\n",
    "\n",
    "# head() to display top five rows of the transformed data\n",
    "df_pca_sklearn.head()"
   ]
  },
  {
   "cell_type": "code",
   "execution_count": 31,
   "metadata": {},
   "outputs": [
    {
     "data": {
      "text/plain": [
       "<AxesSubplot:xlabel='PC1', ylabel='PC2'>"
      ]
     },
     "execution_count": 31,
     "metadata": {},
     "output_type": "execute_result"
    },
    {
     "data": {
      "image/png": "[encoded data removed]",
      "text/plain": [
       "<Figure size 1080x576 with 1 Axes>"
      ]
     },
     "metadata": {
      "needs_background": "light"
     },
     "output_type": "display_data"
    }
   ],
   "source": [
    "sns.scatterplot(x='PC1',y='PC2',data=df_pca,hue=df1['WillRainTomorrow?'])"
   ]
  },
  {
   "cell_type": "markdown",
   "metadata": {
    "collapsed": true
   },
   "source": [
    "<table align=\"left\">\n",
    "    <tr>\n",
    "        <td width=\"6%\">\n",
    "            <img src=\"question_icon.png\">\n",
    "        </td>\n",
    "        <td>\n",
    "            <div align=\"left\", style=\"font-size:120%\">\n",
    "                <font color=\"#21618C\">\n",
    "                    <b>13. Split the dataset of the 11 standardized features into the train and test sets of proportion 70:30.</b>\n",
    "                </font>\n",
    "            </div>\n",
    "        </td>\n",
    "    </tr>\n",
    "</table>"
   ]
  },
  {
   "cell_type": "code",
   "execution_count": 32,
   "metadata": {},
   "outputs": [
    {
     "data": {
      "text/plain": [
       "(10464, 11)"
      ]
     },
     "execution_count": 32,
     "metadata": {},
     "output_type": "execute_result"
    }
   ],
   "source": [
    "df2.shape"
   ]
  },
  {
   "cell_type": "code",
   "execution_count": 33,
   "metadata": {},
   "outputs": [],
   "source": [
    "# consider the independent variables\n",
    "# convert the standardized array of the dataest to the dataframe\n",
    "X = pd.DataFrame(df2)\n",
    "\n",
    "# consider the target variable\n",
    "y = df1['WillRainTomorrow?']"
   ]
  },
  {
   "cell_type": "code",
   "execution_count": 34,
   "metadata": {},
   "outputs": [],
   "source": [
    "# split the original dataset into train and test set\n",
    "# pass the independent and dependent variables\n",
    "# pass the required proportion of the test set to the parameter 'test_size'\n",
    "# pass the 'random_state' to obtain the same sets for multiple code runs\n",
    "# pass the target variable to the parameter 'stratify', to obtain the balance of target labels in train and test sets\n",
    "X_train, X_test, y_train, y_test = train_test_split(X, y, test_size = 0.3, random_state = 10, stratify = y)"
   ]
  },
  {
   "cell_type": "markdown",
   "metadata": {
    "collapsed": true
   },
   "source": [
    "<table align=\"left\">\n",
    "    <tr>\n",
    "        <td width=\"6%\">\n",
    "            <img src=\"question_icon.png\">\n",
    "        </td>\n",
    "        <td>\n",
    "            <div align=\"left\", style=\"font-size:120%\">\n",
    "                <font color=\"#21618C\">\n",
    "                    <b>14. Reduce the number of features in the train and test sets to 3 using the python library.</b>\n",
    "                </font>\n",
    "            </div>\n",
    "        </td>\n",
    "    </tr>\n",
    "</table>"
   ]
  },
  {
   "cell_type": "code",
   "execution_count": 35,
   "metadata": {},
   "outputs": [],
   "source": [
    "# specify the required no of components to the parameter 'n_components'\n",
    "# pass the 'random_state' to get the same output for multiple runs\n",
    "pca1 = PCA(n_components = 3, random_state = 10)\n",
    "\n",
    "# the 'fit_transform()' fits the PCA on the data transforms the data to compute the principal components \n",
    "# pass the standardized data to fit PCA\n",
    "components = pca1.fit_transform(df2)"
   ]
  },
  {
   "cell_type": "code",
   "execution_count": 36,
   "metadata": {},
   "outputs": [
    {
     "data": {
      "text/html": [
       "<div>\n",
       "<style scoped>\n",
       "    .dataframe tbody tr th:only-of-type {\n",
       "        vertical-align: middle;\n",
       "    }\n",
       "\n",
       "    .dataframe tbody tr th {\n",
       "        vertical-align: top;\n",
       "    }\n",
       "\n",
       "    .dataframe thead th {\n",
       "        text-align: right;\n",
       "    }\n",
       "</style>\n",
       "<table border=\"1\" class=\"dataframe\">\n",
       "  <thead>\n",
       "    <tr style=\"text-align: right;\">\n",
       "      <th></th>\n",
       "      <th>PC1</th>\n",
       "      <th>PC2</th>\n",
       "      <th>PC3</th>\n",
       "    </tr>\n",
       "  </thead>\n",
       "  <tbody>\n",
       "    <tr>\n",
       "      <th>0</th>\n",
       "      <td>-1.193577</td>\n",
       "      <td>-0.344281</td>\n",
       "      <td>-1.318532</td>\n",
       "    </tr>\n",
       "    <tr>\n",
       "      <th>1</th>\n",
       "      <td>-0.417268</td>\n",
       "      <td>-2.300435</td>\n",
       "      <td>1.143463</td>\n",
       "    </tr>\n",
       "    <tr>\n",
       "      <th>2</th>\n",
       "      <td>-1.374390</td>\n",
       "      <td>-0.522208</td>\n",
       "      <td>-0.229444</td>\n",
       "    </tr>\n",
       "    <tr>\n",
       "      <th>3</th>\n",
       "      <td>-0.166105</td>\n",
       "      <td>1.620767</td>\n",
       "      <td>0.794714</td>\n",
       "    </tr>\n",
       "    <tr>\n",
       "      <th>4</th>\n",
       "      <td>0.528825</td>\n",
       "      <td>-2.208708</td>\n",
       "      <td>-1.513146</td>\n",
       "    </tr>\n",
       "  </tbody>\n",
       "</table>\n",
       "</div>"
      ],
      "text/plain": [
       "        PC1       PC2       PC3\n",
       "0 -1.193577 -0.344281 -1.318532\n",
       "1 -0.417268 -2.300435  1.143463\n",
       "2 -1.374390 -0.522208 -0.229444\n",
       "3 -0.166105  1.620767  0.794714\n",
       "4  0.528825 -2.208708 -1.513146"
      ]
     },
     "execution_count": 36,
     "metadata": {},
     "output_type": "execute_result"
    }
   ],
   "source": [
    "# create a dataframe of principal components\n",
    "# pass the required column names to the parameter 'columns'\n",
    "df_pca_sklearn = pd.DataFrame(data = components, columns = ['PC1', 'PC2', 'PC3'])\n",
    "\n",
    "# head() to display top five rows of the transformed data\n",
    "df_pca_sklearn.head()"
   ]
  },
  {
   "cell_type": "code",
   "execution_count": 37,
   "metadata": {},
   "outputs": [],
   "source": [
    "# consider the independent variables\n",
    "# convert the standardized array of the dataest to the dataframe\n",
    "X = pd.DataFrame(df_pca_sklearn)\n",
    "\n",
    "# consider the target variable\n",
    "y = df1['WillRainTomorrow?']"
   ]
  },
  {
   "cell_type": "code",
   "execution_count": 38,
   "metadata": {},
   "outputs": [],
   "source": [
    "# split the original dataset into train and test set\n",
    "# pass the independent and dependent variables\n",
    "# pass the required proportion of the test set to the parameter 'test_size'\n",
    "# pass the 'random_state' to obtain the same sets for multiple code runs\n",
    "# pass the target variable to the parameter 'stratify', to obtain the balance of target labels in train and test sets\n",
    "X_train, X_test, y_train, y_test = train_test_split(X, y, test_size = 0.3, random_state = 10, stratify = y)"
   ]
  },
  {
   "cell_type": "markdown",
   "metadata": {
    "collapsed": true
   },
   "source": [
    "<table align=\"left\">\n",
    "    <tr>\n",
    "        <td width=\"6%\">\n",
    "            <img src=\"question_icon.png\">\n",
    "        </td>\n",
    "        <td>\n",
    "            <div align=\"left\", style=\"font-size:120%\">\n",
    "                <font color=\"#21618C\">\n",
    "                    <b>15. Write a generalized function that builds the random forest classification algorithm and returns the accuracy of the algorithm on the test set.</b>\n",
    "                </font>\n",
    "            </div>\n",
    "        </td>\n",
    "    </tr>\n",
    "</table>"
   ]
  },
  {
   "cell_type": "code",
   "execution_count": 39,
   "metadata": {},
   "outputs": [],
   "source": [
    "from sklearn.ensemble import RandomForestClassifier"
   ]
  },
  {
   "cell_type": "code",
   "execution_count": 40,
   "metadata": {},
   "outputs": [],
   "source": [
    "# define a function to build a decision tree model and calculate the accuracy on the test set\n",
    "# pass the train and test sets as the \n",
    "def randomFOREST_model_run(X_train, X_test, y_train, y_test):\n",
    "    \n",
    "    # create a decision tree classifier object\n",
    "    # use 'random_state' to obtain the same results for multiple code runs\n",
    "    df_random = RandomForestClassifier(random_state=10)\n",
    "    \n",
    "    # fit the decision tree model on the train set\n",
    "    df_random.fit(X_train, y_train)\n",
    "    \n",
    "    # predict the target class for test set\n",
    "    y_pred = df_random.predict(X_test)\n",
    "    \n",
    "    # print the accuracy score\n",
    "    print('Accuracy on test set: ')\n",
    "    print(accuracy_score(y_test, y_pred))"
   ]
  },
  {
   "cell_type": "markdown",
   "metadata": {
    "collapsed": true
   },
   "source": [
    "<table align=\"left\">\n",
    "    <tr>\n",
    "        <td width=\"6%\">\n",
    "            <img src=\"question_icon.png\">\n",
    "        </td>\n",
    "        <td>\n",
    "            <div align=\"left\", style=\"font-size:120%\">\n",
    "                <font color=\"#21618C\">\n",
    "                    <b>16. Build a random forest model on the original data (without PCA transformation) and find the accuracy of the model on the test data. Also, calculate the time required to execute the code.</b>\n",
    "                </font>\n",
    "            </div>\n",
    "        </td>\n",
    "    </tr>\n",
    "</table>"
   ]
  },
  {
   "cell_type": "code",
   "execution_count": 41,
   "metadata": {},
   "outputs": [],
   "source": [
    "# consider the independent variables\n",
    "# convert the standardized array of the dataest to the dataframe\n",
    "X = pd.DataFrame(df2)\n",
    "\n",
    "# consider the target variable\n",
    "y = df1['WillRainTomorrow?']"
   ]
  },
  {
   "cell_type": "code",
   "execution_count": 42,
   "metadata": {},
   "outputs": [],
   "source": [
    "# split the original dataset into train and test set\n",
    "# pass the independent and dependent variables\n",
    "# pass the required proportion of the test set to the parameter 'test_size'\n",
    "# pass the 'random_state' to obtain the same sets for multiple code runs\n",
    "# pass the target variable to the parameter 'stratify', to obtain the balance of target labels in train and test sets\n",
    "X_train, X_test, y_train, y_test = train_test_split(X, y, test_size = 0.3, random_state = 10, stratify = y)"
   ]
  },
  {
   "cell_type": "code",
   "execution_count": 43,
   "metadata": {},
   "outputs": [
    {
     "name": "stdout",
     "output_type": "stream",
     "text": [
      "Accuracy on test set: \n",
      "0.945859872611465\n",
      "Wall time: 2.13 s\n"
     ]
    }
   ],
   "source": [
    "%%time\n",
    "# '%%time' returns the time required for the execution of the model\n",
    "\n",
    "# pass the train and test set of the original data\n",
    "randomFOREST_model_run(X_train, X_test, y_train, y_test)"
   ]
  },
  {
   "cell_type": "markdown",
   "metadata": {
    "collapsed": true
   },
   "source": [
    "<table align=\"left\">\n",
    "    <tr>\n",
    "        <td width=\"6%\">\n",
    "            <img src=\"question_icon.png\">\n",
    "        </td>\n",
    "        <td>\n",
    "            <div align=\"left\", style=\"font-size:120%\">\n",
    "                <font color=\"#21618C\">\n",
    "                    <b>17. Build a random forest model on the dataset transformed using PCA and find the accuracy of the model on the test data. Also, calculate the time required to execute the code.</b>\n",
    "                </font>\n",
    "            </div>\n",
    "        </td>\n",
    "    </tr>\n",
    "</table>"
   ]
  },
  {
   "cell_type": "code",
   "execution_count": 44,
   "metadata": {},
   "outputs": [],
   "source": [
    "# specify the required no of components to the parameter 'n_components'\n",
    "# pass the 'random_state' to get the same output for multiple runs\n",
    "pca = PCA(n_components = 4, random_state = 10)\n",
    "\n",
    "# fit the PCA on train set\n",
    "# the 'transform()' computes the principal components \n",
    "# pass the train data to transform the train and test sets\n",
    "X_train_pca = pca.fit_transform(X_train)\n",
    "X_test_pca = pca.transform(X_test)"
   ]
  },
  {
   "cell_type": "code",
   "execution_count": 45,
   "metadata": {},
   "outputs": [
    {
     "name": "stdout",
     "output_type": "stream",
     "text": [
      "Accuracy on test set: \n",
      "0.9229299363057325\n",
      "Wall time: 2.27 s\n"
     ]
    }
   ],
   "source": [
    "%%time\n",
    "# '%%time' returns the time required for the execution of the model\n",
    "\n",
    "# pass the train and test set of the original data\n",
    "randomFOREST_model_run(X_train_pca, X_test_pca, y_train, y_test)"
   ]
  },
  {
   "cell_type": "markdown",
   "metadata": {},
   "source": [
    "<a id=\"lda\"> </a>\n",
    "## 3. Linear Discriminant Analysis (LDA)"
   ]
  },
  {
   "cell_type": "markdown",
   "metadata": {
    "collapsed": true
   },
   "source": [
    "<table align=\"left\">\n",
    "    <tr>\n",
    "        <td width=\"6%\">\n",
    "            <img src=\"question_icon.png\">\n",
    "        </td>\n",
    "        <td>\n",
    "            <div align=\"left\", style=\"font-size:120%\">\n",
    "                <font color=\"#21618C\">\n",
    "                    <b>18. Project the train and test sets (data without PCA transformation) onto the 1-dimensional vector that maximizes the separation between the classes of the target variable.</b>\n",
    "                </font>\n",
    "            </div>\n",
    "        </td>\n",
    "    </tr>\n",
    "</table>"
   ]
  },
  {
   "cell_type": "code",
   "execution_count": 46,
   "metadata": {},
   "outputs": [
    {
     "data": {
      "text/plain": [
       "array([1, 0], dtype=int64)"
      ]
     },
     "execution_count": 46,
     "metadata": {},
     "output_type": "execute_result"
    }
   ],
   "source": [
    "# consider the target variable\n",
    "df_target = df1['WillRainTomorrow?']\n",
    "\n",
    "# check the unique classes in the target variable\n",
    "df_target.unique()"
   ]
  },
  {
   "cell_type": "code",
   "execution_count": 48,
   "metadata": {},
   "outputs": [],
   "source": [
    "x=df_scale"
   ]
  },
  {
   "cell_type": "code",
   "execution_count": 49,
   "metadata": {},
   "outputs": [],
   "source": [
    "X_std=pd.DataFrame(x,columns=x.columns)"
   ]
  },
  {
   "cell_type": "code",
   "execution_count": 50,
   "metadata": {},
   "outputs": [],
   "source": [
    "X_train, X_test, y_train, y_test = train_test_split(X_std, df_target, test_size = 0.3, random_state = 10, stratify = y)"
   ]
  },
  {
   "cell_type": "code",
   "execution_count": 51,
   "metadata": {},
   "outputs": [],
   "source": [
    "# instantiate the LDA\n",
    "# here we have 2 classes in target variable, thus we choose n_components as 2 - 1 = 1\n",
    "lda = LDA(n_components=1)\n",
    "\n",
    "# fit_transform() computes the linear discriminants on the given data \n",
    "# pass the standardized data of independent variables to the parameter 'X'\n",
    "# pass the target variable to the parameter 'y'\n",
    "X_train_lda = lda.fit_transform(X_train, y_train)\n",
    "X_test_lda = lda.transform(X_test)"
   ]
  },
  {
   "cell_type": "markdown",
   "metadata": {
    "collapsed": true
   },
   "source": [
    "<table align=\"left\">\n",
    "    <tr>\n",
    "        <td width=\"6%\">\n",
    "            <img src=\"question_icon.png\">\n",
    "        </td>\n",
    "        <td>\n",
    "            <div align=\"left\", style=\"font-size:120%\">\n",
    "                <font color=\"#21618C\">\n",
    "                    <b>19. Run the random forest classifier on the LDA transformed data and find the model accuracy on the test set. Also, calculate the time required to execute the code.</b>\n",
    "                </font>\n",
    "            </div>\n",
    "        </td>\n",
    "    </tr>\n",
    "</table>"
   ]
  },
  {
   "cell_type": "code",
   "execution_count": 52,
   "metadata": {},
   "outputs": [
    {
     "name": "stdout",
     "output_type": "stream",
     "text": [
      "Accuracy on test set: \n",
      "0.945859872611465\n",
      "Wall time: 2.32 s\n"
     ]
    }
   ],
   "source": [
    "%%time\n",
    "# '%%time' returns the time required for the execution of the model\n",
    "\n",
    "# pass the train and test set of the original data\n",
    "randomFOREST_model_run(X_train, X_test, y_train, y_test)"
   ]
  },
  {
   "cell_type": "markdown",
   "metadata": {
    "collapsed": true
   },
   "source": [
    "<table align=\"left\">\n",
    "    <tr>\n",
    "        <td width=\"6%\">\n",
    "            <img src=\"question_icon.png\">\n",
    "        </td>\n",
    "        <td>\n",
    "            <div align=\"left\", style=\"font-size:120%\">\n",
    "                <font color=\"#21618C\">\n",
    "                    <b>20. Which of the above methods is more efficient in reducing the dimension of the data?</b>\n",
    "                </font>\n",
    "            </div>\n",
    "        </td>\n",
    "    </tr>\n",
    "</table>"
   ]
  },
  {
   "cell_type": "markdown",
   "metadata": {},
   "source": [
    "## accuracy of pca\n",
    "Accuracy on test set: \n",
    "0.9229299363057325\n",
    "Wall time: 2.27 s\n",
    "    \n",
    "## accuracy of LDA   \n",
    "Accuracy on test set: \n",
    "0.945859872611465\n",
    "Wall time: 2.32 s   "
   ]
  },
  {
   "cell_type": "code",
   "execution_count": 53,
   "metadata": {},
   "outputs": [],
   "source": [
    "#The accuracy of LDA is slightly better than PCA "
   ]
  }
 ],
 "metadata": {
  "kernelspec": {
   "display_name": "Python 3 (ipykernel)",
   "language": "python",
   "name": "python3"
  },
  "language_info": {
   "codemirror_mode": {
    "name": "ipython",
    "version": 3
   },
   "file_extension": ".py",
   "mimetype": "text/x-python",
   "name": "python",
   "nbconvert_exporter": "python",
   "pygments_lexer": "ipython3",
   "version": "3.9.12"
  }
 },
 "nbformat": 4,
 "nbformat_minor": 4
}
